{
 "cells": [
  {
   "cell_type": "code",
   "execution_count": 1,
   "metadata": {},
   "outputs": [],
   "source": [
    "import pandas as pd\n",
    "import numpy as np\n",
    "import matplotlib.pyplot as plt\n",
    "import seaborn as sns\n",
    "import talib as ta\n",
    "import talib.abstract as ta\n",
    "import pandas_ta as pta\n",
    "from technical import qtpylib\n"
   ]
  },
  {
   "cell_type": "code",
   "execution_count": 2,
   "metadata": {},
   "outputs": [],
   "source": [
    "df_1h = pd.read_json('/bali/freqtrade/user_data/data/binance/futures/ETH_USDT-1h-futures.json')\n",
    "df_1h.columns = ['date', 'open', 'high', 'low', 'close', 'volume']\n",
    "df_1h['date'] = df_1h.date.apply(lambda x: pd.to_datetime(x, unit='ms'))"
   ]
  },
  {
   "cell_type": "code",
   "execution_count": 13,
   "metadata": {},
   "outputs": [],
   "source": [
    "df_15m = pd.read_json('/bali/freqtrade/user_data/data/binance/futures/ETH_USDT-15m-futures.json')\n",
    "df_15m.columns = ['date', 'open', 'high', 'low', 'close', 'volume']\n",
    "df_15m['date'] = df_15m.date.apply(lambda x: pd.to_datetime(x, unit='ms'))"
   ]
  },
  {
   "cell_type": "code",
   "execution_count": 6,
   "metadata": {},
   "outputs": [],
   "source": [
    "df = pd.read_json('/bali/freqtrade/user_data/data/binance/futures/ETH_USDT-1m-futures.json')\n",
    "df.columns = ['date', 'open', 'high', 'low', 'close', 'volume']\n",
    "df['date'] = df.date.apply(lambda x: pd.to_datetime(x, unit='ms'))"
   ]
  },
  {
   "cell_type": "code",
   "execution_count": 3,
   "metadata": {},
   "outputs": [
    {
     "data": {
      "text/html": [
       "<div>\n",
       "<style scoped>\n",
       "    .dataframe tbody tr th:only-of-type {\n",
       "        vertical-align: middle;\n",
       "    }\n",
       "\n",
       "    .dataframe tbody tr th {\n",
       "        vertical-align: top;\n",
       "    }\n",
       "\n",
       "    .dataframe thead th {\n",
       "        text-align: right;\n",
       "    }\n",
       "</style>\n",
       "<table border=\"1\" class=\"dataframe\">\n",
       "  <thead>\n",
       "    <tr style=\"text-align: right;\">\n",
       "      <th></th>\n",
       "      <th>date</th>\n",
       "      <th>open</th>\n",
       "      <th>high</th>\n",
       "      <th>low</th>\n",
       "      <th>close</th>\n",
       "      <th>volume</th>\n",
       "    </tr>\n",
       "  </thead>\n",
       "  <tbody>\n",
       "    <tr>\n",
       "      <th>0</th>\n",
       "      <td>2019-11-27 07:00:00</td>\n",
       "      <td>146.00</td>\n",
       "      <td>146.00</td>\n",
       "      <td>146.00</td>\n",
       "      <td>146.00</td>\n",
       "      <td>0.010</td>\n",
       "    </tr>\n",
       "    <tr>\n",
       "      <th>1</th>\n",
       "      <td>2019-11-27 08:00:00</td>\n",
       "      <td>125.03</td>\n",
       "      <td>145.01</td>\n",
       "      <td>125.03</td>\n",
       "      <td>133.00</td>\n",
       "      <td>0.080</td>\n",
       "    </tr>\n",
       "    <tr>\n",
       "      <th>2</th>\n",
       "      <td>2019-11-27 09:00:00</td>\n",
       "      <td>133.00</td>\n",
       "      <td>133.00</td>\n",
       "      <td>133.00</td>\n",
       "      <td>133.00</td>\n",
       "      <td>0.000</td>\n",
       "    </tr>\n",
       "    <tr>\n",
       "      <th>3</th>\n",
       "      <td>2019-11-27 10:00:00</td>\n",
       "      <td>142.20</td>\n",
       "      <td>144.52</td>\n",
       "      <td>142.10</td>\n",
       "      <td>142.62</td>\n",
       "      <td>2832.710</td>\n",
       "    </tr>\n",
       "    <tr>\n",
       "      <th>4</th>\n",
       "      <td>2019-11-27 11:00:00</td>\n",
       "      <td>142.70</td>\n",
       "      <td>146.92</td>\n",
       "      <td>142.22</td>\n",
       "      <td>146.58</td>\n",
       "      <td>9079.800</td>\n",
       "    </tr>\n",
       "    <tr>\n",
       "      <th>...</th>\n",
       "      <td>...</td>\n",
       "      <td>...</td>\n",
       "      <td>...</td>\n",
       "      <td>...</td>\n",
       "      <td>...</td>\n",
       "      <td>...</td>\n",
       "    </tr>\n",
       "    <tr>\n",
       "      <th>25601</th>\n",
       "      <td>2022-10-29 00:00:00</td>\n",
       "      <td>1553.80</td>\n",
       "      <td>1556.85</td>\n",
       "      <td>1546.71</td>\n",
       "      <td>1552.70</td>\n",
       "      <td>110913.957</td>\n",
       "    </tr>\n",
       "    <tr>\n",
       "      <th>25602</th>\n",
       "      <td>2022-10-29 01:00:00</td>\n",
       "      <td>1552.70</td>\n",
       "      <td>1556.00</td>\n",
       "      <td>1551.32</td>\n",
       "      <td>1552.82</td>\n",
       "      <td>55779.297</td>\n",
       "    </tr>\n",
       "    <tr>\n",
       "      <th>25603</th>\n",
       "      <td>2022-10-29 02:00:00</td>\n",
       "      <td>1552.82</td>\n",
       "      <td>1578.00</td>\n",
       "      <td>1551.72</td>\n",
       "      <td>1571.44</td>\n",
       "      <td>303472.146</td>\n",
       "    </tr>\n",
       "    <tr>\n",
       "      <th>25604</th>\n",
       "      <td>2022-10-29 03:00:00</td>\n",
       "      <td>1571.45</td>\n",
       "      <td>1595.00</td>\n",
       "      <td>1568.06</td>\n",
       "      <td>1588.84</td>\n",
       "      <td>472058.893</td>\n",
       "    </tr>\n",
       "    <tr>\n",
       "      <th>25605</th>\n",
       "      <td>2022-10-29 04:00:00</td>\n",
       "      <td>1588.84</td>\n",
       "      <td>1591.36</td>\n",
       "      <td>1576.19</td>\n",
       "      <td>1580.70</td>\n",
       "      <td>183194.988</td>\n",
       "    </tr>\n",
       "  </tbody>\n",
       "</table>\n",
       "<p>25606 rows × 6 columns</p>\n",
       "</div>"
      ],
      "text/plain": [
       "                     date     open     high      low    close      volume\n",
       "0     2019-11-27 07:00:00   146.00   146.00   146.00   146.00       0.010\n",
       "1     2019-11-27 08:00:00   125.03   145.01   125.03   133.00       0.080\n",
       "2     2019-11-27 09:00:00   133.00   133.00   133.00   133.00       0.000\n",
       "3     2019-11-27 10:00:00   142.20   144.52   142.10   142.62    2832.710\n",
       "4     2019-11-27 11:00:00   142.70   146.92   142.22   146.58    9079.800\n",
       "...                   ...      ...      ...      ...      ...         ...\n",
       "25601 2022-10-29 00:00:00  1553.80  1556.85  1546.71  1552.70  110913.957\n",
       "25602 2022-10-29 01:00:00  1552.70  1556.00  1551.32  1552.82   55779.297\n",
       "25603 2022-10-29 02:00:00  1552.82  1578.00  1551.72  1571.44  303472.146\n",
       "25604 2022-10-29 03:00:00  1571.45  1595.00  1568.06  1588.84  472058.893\n",
       "25605 2022-10-29 04:00:00  1588.84  1591.36  1576.19  1580.70  183194.988\n",
       "\n",
       "[25606 rows x 6 columns]"
      ]
     },
     "execution_count": 3,
     "metadata": {},
     "output_type": "execute_result"
    }
   ],
   "source": [
    "df_1h"
   ]
  },
  {
   "cell_type": "code",
   "execution_count": 4,
   "metadata": {},
   "outputs": [
    {
     "name": "stderr",
     "output_type": "stream",
     "text": [
      "2022-10-29 11:23:35.766411: I tensorflow/core/platform/cpu_feature_guard.cc:193] This TensorFlow binary is optimized with oneAPI Deep Neural Network Library (oneDNN) to use the following CPU instructions in performance-critical operations:  AVX2 AVX512F FMA\n",
      "To enable them in other operations, rebuild TensorFlow with the appropriate compiler flags.\n",
      "2022-10-29 11:23:35.912933: W tensorflow/stream_executor/platform/default/dso_loader.cc:64] Could not load dynamic library 'libcudart.so.11.0'; dlerror: libcudart.so.11.0: cannot open shared object file: No such file or directory\n",
      "2022-10-29 11:23:35.912955: I tensorflow/stream_executor/cuda/cudart_stub.cc:29] Ignore above cudart dlerror if you do not have a GPU set up on your machine.\n",
      "2022-10-29 11:23:35.945907: E tensorflow/stream_executor/cuda/cuda_blas.cc:2981] Unable to register cuBLAS factory: Attempting to register factory for plugin cuBLAS when one has already been registered\n",
      "2022-10-29 11:23:36.621934: W tensorflow/stream_executor/platform/default/dso_loader.cc:64] Could not load dynamic library 'libnvinfer.so.7'; dlerror: libnvinfer.so.7: cannot open shared object file: No such file or directory\n",
      "2022-10-29 11:23:36.622029: W tensorflow/stream_executor/platform/default/dso_loader.cc:64] Could not load dynamic library 'libnvinfer_plugin.so.7'; dlerror: libnvinfer_plugin.so.7: cannot open shared object file: No such file or directory\n",
      "2022-10-29 11:23:36.622041: W tensorflow/compiler/tf2tensorrt/utils/py_utils.cc:38] TF-TRT Warning: Cannot dlopen some TensorRT libraries. If you would like to use Nvidia GPU with TensorRT, please make sure the missing libraries mentioned above are installed properly.\n"
     ]
    }
   ],
   "source": [
    "from keras.preprocessing.sequence import TimeseriesGenerator\n",
    "from keras.models import Sequential\n",
    "from keras.layers import LSTM, Dense, Dropout, Activation, Flatten, Conv1D, MaxPooling1D\n",
    "from keras.callbacks import EarlyStopping, ModelCheckpoint\n",
    "from keras.optimizers import Adam, SGD, RMSprop, Adagrad, Adadelta, Adamax, Nadam, Ftrl\n",
    "from keras import backend as K\n",
    "from numpy import hstack\n",
    "from sklearn.model_selection import train_test_split\n"
   ]
  },
  {
   "cell_type": "code",
   "execution_count": 5,
   "metadata": {},
   "outputs": [],
   "source": [
    "# df_1h\n",
    "n_input = 30\n",
    "open = df_1h.open.values.reshape((len(df_1h.open.values), 1))\n",
    "high = df_1h.high.values.reshape((len(df_1h.high.values), 1))\n",
    "low = df_1h.low.values.reshape((len(df_1h.low.values), 1))\n",
    "close = df_1h.close.values.reshape((len(df_1h.close.values), 1))\n",
    "volume = df_1h.volume.values.reshape((len(df_1h.volume.values), 1))\n",
    "features = hstack((open, high, low, close, volume))\n",
    "generator = TimeseriesGenerator(features, close, length=n_input, batch_size=1)\n",
    "\n",
    "# specify the model\n",
    "\n",
    "# generator = TimeseriesGenerator(df_1h.close, df_1h.close, length= n_input, sampling_rate=1, batch_size=1)\n",
    "# print(generator[0])"
   ]
  },
  {
   "cell_type": "code",
   "execution_count": 6,
   "metadata": {},
   "outputs": [
    {
     "name": "stdout",
     "output_type": "stream",
     "text": [
      "(20460, 1, 30, 5) (20460, 1, 1) (5116, 1, 30, 5) (5116, 1, 1)\n"
     ]
    }
   ],
   "source": [
    "X = []\n",
    "y = []\n",
    "# train split\n",
    "for i in range(len(generator)):\n",
    "    X.append(generator[i][0])\n",
    "    y.append(generator[i][1])\n",
    "X = np.array(X)\n",
    "y = np.array(y)\n",
    "X_train, X_test, y_train, y_test = train_test_split(X, y, test_size=0.2, shuffle=False)\n",
    "print(X_train.shape, y_train.shape, X_test.shape, y_test.shape)"
   ]
  },
  {
   "cell_type": "code",
   "execution_count": 7,
   "metadata": {},
   "outputs": [
    {
     "name": "stdout",
     "output_type": "stream",
     "text": [
      "(20460, 30, 5) (20460, 1) (5116, 30, 5) (5116, 1)\n"
     ]
    }
   ],
   "source": [
    "X_train = X_train.reshape((X_train.shape[0], X_train.shape[-2], X_train.shape[-1]))\n",
    "X_test = X_test.reshape((X_test.shape[0], X_test.shape[-2], X_test.shape[-1]))\n",
    "y_train = y_train.reshape(y_train.shape[0], -1)\n",
    "y_test = y_test.reshape(y_test.shape[0], -1)\n",
    "print(X_train.shape, y_train.shape, X_test.shape, y_test.shape)"
   ]
  },
  {
   "cell_type": "code",
   "execution_count": 210,
   "metadata": {},
   "outputs": [
    {
     "name": "stdout",
     "output_type": "stream",
     "text": [
      "(20482, 3, 5) (20482, 1) (5121, 3, 5) (5121, 1)\n"
     ]
    }
   ],
   "source": [
    "print(X_train.shape, y_train.shape, X_test.shape, y_test.shape)"
   ]
  },
  {
   "cell_type": "code",
   "execution_count": 13,
   "metadata": {},
   "outputs": [
    {
     "name": "stdout",
     "output_type": "stream",
     "text": [
      "Model: \"sequential_1\"\n",
      "_________________________________________________________________\n",
      " Layer (type)                Output Shape              Param #   \n",
      "=================================================================\n",
      " lstm_1 (LSTM)               (None, 50)                11200     \n",
      "                                                                 \n",
      " dense_1 (Dense)             (None, 1)                 51        \n",
      "                                                                 \n",
      "=================================================================\n",
      "Total params: 11,251\n",
      "Trainable params: 11,251\n",
      "Non-trainable params: 0\n",
      "_________________________________________________________________\n",
      "Epoch 1/100\n",
      "640/640 [==============================] - 8s 11ms/step - loss: 102462000.0000 - val_loss: 30771256.0000\n",
      "Epoch 2/100\n",
      "640/640 [==============================] - 7s 11ms/step - loss: 4088236.7500 - val_loss: 15343232.0000\n",
      "Epoch 3/100\n",
      "640/640 [==============================] - 7s 11ms/step - loss: 2890495.0000 - val_loss: 13753588.0000\n",
      "Epoch 4/100\n",
      "640/640 [==============================] - 7s 11ms/step - loss: 2754574.0000 - val_loss: 15240039.0000\n",
      "Epoch 5/100\n",
      "640/640 [==============================] - 7s 11ms/step - loss: 2257612.5000 - val_loss: 4294088.0000\n",
      "Epoch 6/100\n",
      "640/640 [==============================] - 7s 11ms/step - loss: 715804.3125 - val_loss: 3466604.0000\n",
      "Epoch 7/100\n",
      "640/640 [==============================] - 7s 11ms/step - loss: 549447.2500 - val_loss: 2093900.2500\n",
      "Epoch 8/100\n",
      "640/640 [==============================] - 7s 11ms/step - loss: 294981.1562 - val_loss: 1365436.6250\n",
      "Epoch 9/100\n",
      "640/640 [==============================] - 7s 11ms/step - loss: 218616.3906 - val_loss: 926058.5000\n",
      "Epoch 10/100\n",
      "640/640 [==============================] - 7s 11ms/step - loss: 156177.0469 - val_loss: 636770.5000\n",
      "Epoch 11/100\n",
      "640/640 [==============================] - 7s 11ms/step - loss: 99732.2266 - val_loss: 470421.9062\n",
      "Epoch 12/100\n",
      "640/640 [==============================] - 7s 11ms/step - loss: 76543.1875 - val_loss: 412379.0312\n",
      "Epoch 13/100\n",
      "640/640 [==============================] - 7s 11ms/step - loss: 46246.7266 - val_loss: 471034.9375\n",
      "Epoch 14/100\n",
      "640/640 [==============================] - 7s 11ms/step - loss: 31231.5273 - val_loss: 82720.5781\n",
      "Epoch 15/100\n",
      "640/640 [==============================] - 7s 11ms/step - loss: 23007.9629 - val_loss: 88890.8125\n",
      "Epoch 16/100\n",
      "640/640 [==============================] - 7s 11ms/step - loss: 14152.0264 - val_loss: 20136.6855\n",
      "Epoch 17/100\n",
      "640/640 [==============================] - 7s 11ms/step - loss: 17196.1074 - val_loss: 15155.3467\n",
      "Epoch 18/100\n",
      "640/640 [==============================] - 7s 11ms/step - loss: 6773.7202 - val_loss: 31057.3418\n",
      "Epoch 19/100\n",
      "640/640 [==============================] - 7s 11ms/step - loss: 5885.3652 - val_loss: 7879.6436\n",
      "Epoch 20/100\n",
      "640/640 [==============================] - 7s 11ms/step - loss: 10383.9863 - val_loss: 10650.4355\n",
      "Epoch 21/100\n",
      "640/640 [==============================] - 7s 11ms/step - loss: 9136.9404 - val_loss: 5343.2427\n",
      "Epoch 22/100\n",
      "640/640 [==============================] - 7s 11ms/step - loss: 17658.5352 - val_loss: 2473.3079\n",
      "Epoch 23/100\n",
      "640/640 [==============================] - 7s 11ms/step - loss: 8558.3486 - val_loss: 66744.8281\n",
      "Epoch 24/100\n",
      "640/640 [==============================] - 7s 11ms/step - loss: 6467.4590 - val_loss: 13087.2783\n",
      "Epoch 25/100\n",
      "640/640 [==============================] - 7s 11ms/step - loss: 7145.6953 - val_loss: 3006.8494\n",
      "Epoch 26/100\n",
      "640/640 [==============================] - 7s 11ms/step - loss: 8489.9365 - val_loss: 15396.2139\n",
      "Epoch 27/100\n",
      "640/640 [==============================] - 7s 11ms/step - loss: 11862.3271 - val_loss: 19794.1348\n",
      "Epoch 28/100\n",
      "640/640 [==============================] - 7s 11ms/step - loss: 5849.9048 - val_loss: 4211.8931\n",
      "Epoch 29/100\n",
      "640/640 [==============================] - 7s 11ms/step - loss: 7367.0098 - val_loss: 4314.0020\n",
      "Epoch 30/100\n",
      "640/640 [==============================] - 7s 11ms/step - loss: 10855.3662 - val_loss: 226337.2812\n",
      "Epoch 31/100\n",
      "640/640 [==============================] - 7s 11ms/step - loss: 3765.1506 - val_loss: 3678.5085\n",
      "Epoch 32/100\n",
      "640/640 [==============================] - 7s 11ms/step - loss: 5851.6436 - val_loss: 13496.9180\n",
      "Epoch 33/100\n",
      "640/640 [==============================] - 7s 11ms/step - loss: 5565.0459 - val_loss: 3286.6113\n",
      "Epoch 34/100\n",
      "640/640 [==============================] - 7s 11ms/step - loss: 3811.6152 - val_loss: 23848.4004\n",
      "Epoch 35/100\n",
      "640/640 [==============================] - 7s 10ms/step - loss: 3017.3098 - val_loss: 1901.7766\n",
      "Epoch 36/100\n",
      "640/640 [==============================] - 7s 11ms/step - loss: 18604.4238 - val_loss: 16239.6230\n",
      "Epoch 37/100\n",
      "640/640 [==============================] - 7s 11ms/step - loss: 3470.3848 - val_loss: 1889.1812\n",
      "Epoch 38/100\n",
      "640/640 [==============================] - 7s 11ms/step - loss: 2004.4316 - val_loss: 1018.3914\n",
      "Epoch 39/100\n",
      "640/640 [==============================] - 7s 11ms/step - loss: 2248.4019 - val_loss: 9600.4658\n",
      "Epoch 40/100\n",
      "640/640 [==============================] - 7s 11ms/step - loss: 2060.6973 - val_loss: 3994.5657\n",
      "Epoch 41/100\n",
      "640/640 [==============================] - 7s 10ms/step - loss: 2363.1345 - val_loss: 2812.6152\n",
      "Epoch 42/100\n",
      "640/640 [==============================] - 7s 11ms/step - loss: 2043.0182 - val_loss: 4455.6313\n",
      "Epoch 43/100\n",
      "640/640 [==============================] - 7s 11ms/step - loss: 2247.8391 - val_loss: 1223.5680\n",
      "Epoch 44/100\n",
      "640/640 [==============================] - 7s 11ms/step - loss: 2155.0771 - val_loss: 1024.5536\n",
      "Epoch 45/100\n",
      "640/640 [==============================] - 7s 11ms/step - loss: 1915.5249 - val_loss: 2894.7485\n",
      "Epoch 46/100\n",
      "640/640 [==============================] - 7s 11ms/step - loss: 1859.9747 - val_loss: 1051.2415\n",
      "Epoch 47/100\n",
      "640/640 [==============================] - 7s 11ms/step - loss: 1536.1832 - val_loss: 5076.0815\n",
      "Epoch 48/100\n",
      "640/640 [==============================] - 7s 10ms/step - loss: 1801.3795 - val_loss: 1991.1414\n",
      "Epoch 49/100\n",
      "640/640 [==============================] - 7s 11ms/step - loss: 1792.4968 - val_loss: 1126.7345\n",
      "Epoch 50/100\n",
      "640/640 [==============================] - 7s 11ms/step - loss: 1547.1211 - val_loss: 4338.9321\n",
      "Epoch 51/100\n",
      "640/640 [==============================] - 7s 11ms/step - loss: 1642.6360 - val_loss: 601.8423\n",
      "Epoch 52/100\n",
      "640/640 [==============================] - 7s 11ms/step - loss: 1657.3668 - val_loss: 2319.6125\n",
      "Epoch 53/100\n",
      "640/640 [==============================] - 7s 11ms/step - loss: 1438.5192 - val_loss: 895.1710\n",
      "Epoch 54/100\n",
      "640/640 [==============================] - 7s 11ms/step - loss: 1569.2227 - val_loss: 537.7950\n",
      "Epoch 55/100\n",
      "640/640 [==============================] - 7s 11ms/step - loss: 1272.0596 - val_loss: 2960.4265\n",
      "Epoch 56/100\n",
      "640/640 [==============================] - 7s 11ms/step - loss: 1130.1620 - val_loss: 5064.2222\n",
      "Epoch 57/100\n",
      "640/640 [==============================] - 7s 10ms/step - loss: 1261.0660 - val_loss: 1517.6228\n",
      "Epoch 58/100\n",
      "640/640 [==============================] - 7s 11ms/step - loss: 1768.7279 - val_loss: 596.2086\n",
      "Epoch 59/100\n",
      "640/640 [==============================] - 7s 10ms/step - loss: 1077.2495 - val_loss: 411.5447\n",
      "Epoch 60/100\n",
      "640/640 [==============================] - 7s 11ms/step - loss: 1251.4216 - val_loss: 1619.2654\n",
      "Epoch 61/100\n",
      "640/640 [==============================] - 7s 11ms/step - loss: 1106.9241 - val_loss: 752.8949\n",
      "Epoch 62/100\n",
      "640/640 [==============================] - 7s 11ms/step - loss: 989.6512 - val_loss: 2090.7854\n",
      "Epoch 63/100\n",
      "640/640 [==============================] - 7s 11ms/step - loss: 1105.0679 - val_loss: 4208.9834\n",
      "Epoch 64/100\n",
      "640/640 [==============================] - 7s 11ms/step - loss: 1139.6699 - val_loss: 524.5475\n",
      "Epoch 65/100\n",
      "640/640 [==============================] - 7s 11ms/step - loss: 975.7923 - val_loss: 3526.2979\n",
      "Epoch 66/100\n",
      "640/640 [==============================] - 7s 11ms/step - loss: 1166.9147 - val_loss: 586.4122\n",
      "Epoch 67/100\n",
      "640/640 [==============================] - 7s 11ms/step - loss: 945.0364 - val_loss: 338.6026\n",
      "Epoch 68/100\n",
      "640/640 [==============================] - 7s 11ms/step - loss: 1147.8529 - val_loss: 1340.7959\n",
      "Epoch 69/100\n",
      "640/640 [==============================] - 7s 11ms/step - loss: 970.0619 - val_loss: 990.8497\n",
      "Epoch 70/100\n",
      "640/640 [==============================] - 7s 11ms/step - loss: 890.5173 - val_loss: 516.6418\n",
      "Epoch 71/100\n",
      "640/640 [==============================] - 7s 11ms/step - loss: 1239.4828 - val_loss: 8705.0098\n",
      "Epoch 72/100\n",
      "640/640 [==============================] - 7s 11ms/step - loss: 877.0146 - val_loss: 448.7874\n",
      "Epoch 73/100\n",
      "640/640 [==============================] - 7s 11ms/step - loss: 1022.4184 - val_loss: 833.0949\n",
      "Epoch 74/100\n",
      "640/640 [==============================] - 7s 10ms/step - loss: 1479.1133 - val_loss: 489.1519\n",
      "Epoch 75/100\n",
      "640/640 [==============================] - 7s 10ms/step - loss: 1051.3575 - val_loss: 1560.4946\n",
      "Epoch 76/100\n",
      "640/640 [==============================] - 7s 11ms/step - loss: 966.0931 - val_loss: 825.6904\n",
      "Epoch 77/100\n",
      "640/640 [==============================] - 7s 11ms/step - loss: 1142.5730 - val_loss: 1797.2048\n",
      "Epoch 78/100\n",
      "640/640 [==============================] - 7s 11ms/step - loss: 772.0889 - val_loss: 480.1074\n",
      "Epoch 79/100\n",
      "640/640 [==============================] - 7s 11ms/step - loss: 1215.7717 - val_loss: 739.7690\n",
      "Epoch 80/100\n",
      "640/640 [==============================] - 7s 11ms/step - loss: 985.8376 - val_loss: 6212.7070\n",
      "Epoch 81/100\n",
      "640/640 [==============================] - 7s 11ms/step - loss: 784.9464 - val_loss: 1006.5819\n",
      "Epoch 82/100\n",
      "640/640 [==============================] - 7s 11ms/step - loss: 883.1741 - val_loss: 789.4430\n",
      "Epoch 83/100\n",
      "640/640 [==============================] - 7s 11ms/step - loss: 764.9721 - val_loss: 517.3523\n",
      "Epoch 84/100\n",
      "640/640 [==============================] - 7s 11ms/step - loss: 1008.8345 - val_loss: 1178.3123\n",
      "Epoch 85/100\n",
      "640/640 [==============================] - 7s 11ms/step - loss: 810.6046 - val_loss: 503.5695\n",
      "Epoch 86/100\n",
      "640/640 [==============================] - 7s 11ms/step - loss: 897.6115 - val_loss: 1459.7178\n",
      "Epoch 87/100\n",
      "640/640 [==============================] - 7s 11ms/step - loss: 837.5224 - val_loss: 19662.3613\n",
      "Epoch 88/100\n",
      "640/640 [==============================] - 7s 10ms/step - loss: 1222.0090 - val_loss: 10842.5781\n",
      "Epoch 89/100\n",
      "640/640 [==============================] - 7s 10ms/step - loss: 996.5297 - val_loss: 1325.1918\n",
      "Epoch 90/100\n",
      "640/640 [==============================] - 7s 11ms/step - loss: 856.5612 - val_loss: 21469.6309\n",
      "Epoch 91/100\n",
      "640/640 [==============================] - 7s 11ms/step - loss: 897.6565 - val_loss: 499.6795\n",
      "Epoch 92/100\n",
      "640/640 [==============================] - 7s 11ms/step - loss: 927.3016 - val_loss: 1469.1948\n",
      "Epoch 93/100\n",
      "640/640 [==============================] - 7s 11ms/step - loss: 898.5645 - val_loss: 324.0073\n",
      "Epoch 94/100\n",
      "640/640 [==============================] - 7s 10ms/step - loss: 3213.5078 - val_loss: 7344.9438\n",
      "Epoch 95/100\n",
      "640/640 [==============================] - 7s 11ms/step - loss: 3226.0557 - val_loss: 603.5697\n",
      "Epoch 96/100\n",
      "640/640 [==============================] - 7s 11ms/step - loss: 788.8875 - val_loss: 2623.2798\n",
      "Epoch 97/100\n",
      "640/640 [==============================] - 7s 11ms/step - loss: 846.5541 - val_loss: 4661.7900\n",
      "Epoch 98/100\n",
      "640/640 [==============================] - 7s 11ms/step - loss: 916.8925 - val_loss: 988.5540\n",
      "Epoch 99/100\n",
      "640/640 [==============================] - 7s 11ms/step - loss: 817.1158 - val_loss: 587.4470\n",
      "Epoch 100/100\n",
      "640/640 [==============================] - 7s 11ms/step - loss: 779.9418 - val_loss: 352.7296\n"
     ]
    },
    {
     "data": {
      "text/plain": [
       "<keras.callbacks.History at 0x7fa1676975e0>"
      ]
     },
     "execution_count": 13,
     "metadata": {},
     "output_type": "execute_result"
    }
   ],
   "source": [
    "model = Sequential()\n",
    "model.add(LSTM(50, activation='relu', input_shape=(n_input, 5)))\n",
    "model.add(Dense(1))\n",
    "model.compile(optimizer='adam', loss='mse')\n",
    "model.summary()\n",
    "model.fit(X_train, y_train, epochs=100, verbose=1, validation_data=(X_test, y_test), workers=4, use_multiprocessing=True)\n",
    "\n"
   ]
  },
  {
   "cell_type": "code",
   "execution_count": 23,
   "metadata": {},
   "outputs": [
    {
     "name": "stdout",
     "output_type": "stream",
     "text": [
      "63/63 [==============================] - 0s 3ms/step\n"
     ]
    },
    {
     "data": {
      "image/png": "[encoded data removed]",
      "text/plain": [
       "<Figure size 640x480 with 1 Axes>"
      ]
     },
     "metadata": {},
     "output_type": "display_data"
    }
   ],
   "source": [
    "X_test_plt = X_test[-2000:]\n",
    "y_test_plt = y_test[-2000:]\n",
    "y_pred = model.predict(X_test_plt)\n",
    "plt.plot(y_test_plt, label='y_test', color='blue',  linewidth=1, linestyle='solid', marker='o', markersize=1, markerfacecolor='blue', markeredgecolor='blue', markeredgewidth=1, alpha=1, zorder=1)\n",
    "plt.plot(y_pred, label='y_pred', color='red',  linewidth=1, linestyle='solid', marker='o', markersize=1, markerfacecolor='red', markeredgecolor='red', markeredgewidth=1, alpha=1, zorder=1)\n",
    "plt.legend()\n",
    "plt.show()\n"
   ]
  },
  {
   "cell_type": "code",
   "execution_count": 15,
   "metadata": {},
   "outputs": [
    {
     "data": {
      "image/png": "[encoded data removed]",
      "text/plain": [
       "<Figure size 640x480 with 1 Axes>"
      ]
     },
     "metadata": {},
     "output_type": "display_data"
    }
   ],
   "source": [
    "plt.plot(model.history.history['loss'], label='loss', color='blue',  linewidth=1, linestyle='solid', marker='o', markersize=1, markerfacecolor='blue', markeredgecolor='blue', markeredgewidth=1, alpha=1, zorder=1)\n",
    "plt.plot(model.history.history['val_loss'], label='val_loss', color='red',  linewidth=1, linestyle='solid', marker='o', markersize=1, markerfacecolor='red', markeredgecolor='red', markeredgewidth=1, alpha=1, zorder=1)\n",
    "plt.legend()\n",
    "plt.show()"
   ]
  },
  {
   "cell_type": "code",
   "execution_count": 22,
   "metadata": {},
   "outputs": [
    {
     "name": "stdout",
     "output_type": "stream",
     "text": [
      "160/160 [==============================] - 1s 3ms/step - loss: 352.7296\n"
     ]
    }
   ],
   "source": [
    "loss = model.evaluate(X_test, y_test, verbose=1)"
   ]
  },
  {
   "cell_type": "code",
   "execution_count": 24,
   "metadata": {},
   "outputs": [],
   "source": [
    "model.save('lstm_model_1029.h5')"
   ]
  },
  {
   "cell_type": "code",
   "execution_count": 26,
   "metadata": {},
   "outputs": [
    {
     "name": "stdout",
     "output_type": "stream",
     "text": [
      "01_the_machine_learning_landscape.ipynb\n",
      "02_end_to_end_machine_learning_project.ipynb\n",
      "03_classification.ipynb\n",
      "04_training_linear_models.ipynb\n",
      "05_support_vector_machines.ipynb\n",
      "06_decision_trees.ipynb\n",
      "07_ensemble_learning_and_random_forests.ipynb\n",
      "08_dimensionality_reduction.ipynb\n",
      "09_unsupervised_learning.ipynb\n",
      "10_neural_nets_with_keras.ipynb\n",
      "11_training_deep_neural_networks.ipynb\n",
      "12_custom_models_and_training_with_tensorflow.ipynb\n",
      "13_loading_and_preprocessing_data.ipynb\n",
      "14_deep_computer_vision_with_cnns.ipynb\n",
      "15_processing_sequences_using_rnns_and_cnns.ipynb\n",
      "16_nlp_with_rnns_and_attention.ipynb\n",
      "17_autoencoders_gans_and_diffusion_models.ipynb\n",
      "18_reinforcement_learning.ipynb\n",
      "19_training_and_deploying_at_scale.ipynb\n",
      "CHANGES.md\n",
      "ETH_USDT-1h-futures.json\n",
      "INSTALL.md\n",
      "LICENSE\n",
      "README.md\n",
      "apt.txt\n",
      "awd.py\n",
      "book_equations.pdf\n",
      "booknote.ipynb\n",
      "data.json\n",
      "\u001b[0m\u001b[01;34mdocker\u001b[0m/\n",
      "environment.yml\n",
      "extra_autodiff.ipynb\n",
      "extra_gradient_descent_comparison.ipynb\n",
      "feat_select.py\n",
      "features.ipynb\n",
      "\u001b[01;34mimages\u001b[0m/\n",
      "index.ipynb\n",
      "lstm_model_1029.h5\n",
      "math.py\n",
      "math_differential_calculus.ipynb\n",
      "math_linear_algebra.ipynb\n",
      "ml-project-checklist.md\n",
      "model.h5\n",
      "r_lstm.py\n",
      "requirements.txt\n",
      "test.ipynb\n",
      "test.py\n",
      "tools_matplotlib.ipynb\n",
      "tools_numpy.ipynb\n",
      "tools_pandas.ipynb\n",
      "v1.ipynb\n"
     ]
    }
   ],
   "source": [
    "ls"
   ]
  }
 ],
 "metadata": {
  "kernelspec": {
   "display_name": "Python 3.10.6 ('.env': venv)",
   "language": "python",
   "name": "python3"
  },
  "language_info": {
   "codemirror_mode": {
    "name": "ipython",
    "version": 3
   },
   "file_extension": ".py",
   "mimetype": "text/x-python",
   "name": "python",
   "nbconvert_exporter": "python",
   "pygments_lexer": "ipython3",
   "version": "3.10.6"
  },
  "orig_nbformat": 4,
  "vscode": {
   "interpreter": {
    "hash": "dea147e6d67753639764c0aca4fb9ece9b66958beac989e88e16147db50faeaf"
   }
  }
 },
 "nbformat": 4,
 "nbformat_minor": 2
}
